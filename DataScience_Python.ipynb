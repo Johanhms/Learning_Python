{
  "nbformat": 4,
  "nbformat_minor": 0,
  "metadata": {
    "colab": {
      "provenance": [],
      "authorship_tag": "ABX9TyNcQZs8dSGnWzkGzunPDOtQ",
      "include_colab_link": true
    },
    "kernelspec": {
      "name": "python3",
      "display_name": "Python 3"
    },
    "language_info": {
      "name": "python"
    }
  },
  "cells": [
    {
      "cell_type": "markdown",
      "metadata": {
        "id": "view-in-github",
        "colab_type": "text"
      },
      "source": [
        "<a href=\"https://colab.research.google.com/github/Johanhms/Learning_Python/blob/main/DataScience_Python.ipynb\" target=\"_parent\"><img src=\"https://colab.research.google.com/assets/colab-badge.svg\" alt=\"Open In Colab\"/></a>"
      ]
    },
    {
      "cell_type": "markdown",
      "source": [
        "##**Types of Variable**"
      ],
      "metadata": {
        "id": "aP_0Kb3bBkat"
      }
    },
    {
      "cell_type": "code",
      "source": [
        "counter = 0\n",
        "while counter < 12:\n",
        "  print(counter)\n",
        "  counter = counter + 1\n"
      ],
      "metadata": {
        "id": "0jXIxMguBriy",
        "colab": {
          "base_uri": "https://localhost:8080/"
        },
        "outputId": "7892b6b4-f76d-4598-d403-f1da7e33bd69"
      },
      "execution_count": null,
      "outputs": [
        {
          "output_type": "stream",
          "name": "stdout",
          "text": [
            "0\n",
            "1\n",
            "2\n",
            "3\n",
            "4\n",
            "5\n",
            "6\n",
            "7\n",
            "8\n",
            "9\n",
            "10\n",
            "11\n"
          ]
        }
      ]
    },
    {
      "cell_type": "code",
      "source": [
        "for i in range(5):\n",
        "  print(\"Hello\")"
      ],
      "metadata": {
        "colab": {
          "base_uri": "https://localhost:8080/"
        },
        "id": "omoNihNSrzbt",
        "outputId": "75f61d7c-c852-4708-f9a9-a31f39d79721"
      },
      "execution_count": null,
      "outputs": [
        {
          "output_type": "stream",
          "name": "stdout",
          "text": [
            "Hello\n",
            "Hello\n",
            "Hello\n",
            "Hello\n",
            "Hello\n"
          ]
        }
      ]
    },
    {
      "cell_type": "code",
      "source": [
        "for i in range(5):\n",
        "  print(\"Hello: \", i)"
      ],
      "metadata": {
        "colab": {
          "base_uri": "https://localhost:8080/"
        },
        "id": "PeZVtd24sKiJ",
        "outputId": "b0a52b54-701a-441a-8cc5-eb752f0f615e"
      },
      "execution_count": null,
      "outputs": [
        {
          "output_type": "stream",
          "name": "stdout",
          "text": [
            "Hello:  0\n",
            "Hello:  1\n",
            "Hello:  2\n",
            "Hello:  3\n",
            "Hello:  4\n"
          ]
        }
      ]
    },
    {
      "cell_type": "code",
      "source": [
        "mylist = [10,100,1000]"
      ],
      "metadata": {
        "id": "SeUzHf1usnFS"
      },
      "execution_count": null,
      "outputs": []
    },
    {
      "cell_type": "code",
      "source": [
        "for j in mylist:\n",
        "  print(\"j is: \", j)"
      ],
      "metadata": {
        "colab": {
          "base_uri": "https://localhost:8080/"
        },
        "id": "RBybtVCFtJjx",
        "outputId": "7326e81d-342b-47a8-da55-04dbf83263e3"
      },
      "execution_count": null,
      "outputs": [
        {
          "output_type": "stream",
          "name": "stdout",
          "text": [
            "j is:  10\n",
            "j is:  100\n",
            "j is:  1000\n"
          ]
        }
      ]
    },
    {
      "cell_type": "code",
      "source": [
        "import numpy as np\n",
        "from numpy.random import randn"
      ],
      "metadata": {
        "id": "KyqfSwBwtd66"
      },
      "execution_count": null,
      "outputs": []
    },
    {
      "cell_type": "code",
      "source": [
        "randn()"
      ],
      "metadata": {
        "colab": {
          "base_uri": "https://localhost:8080/"
        },
        "id": "kk8bgbHXvQIz",
        "outputId": "3b2320a0-acf2-4d2e-9031-6ce18d82d27c"
      },
      "execution_count": null,
      "outputs": [
        {
          "output_type": "execute_result",
          "data": {
            "text/plain": [
              "0.966564236679124"
            ]
          },
          "metadata": {},
          "execution_count": 16
        }
      ]
    },
    {
      "cell_type": "code",
      "source": [
        "x = randn()\n",
        "if x > 1:\n",
        "  answer = \"Greater than 1\"\n",
        "print(x)\n",
        "print(answer)"
      ],
      "metadata": {
        "colab": {
          "base_uri": "https://localhost:8080/"
        },
        "id": "HDyoZDO9vi0N",
        "outputId": "f94bb2e8-7ee6-4121-e7d6-c9a2788d3b4f"
      },
      "execution_count": null,
      "outputs": [
        {
          "output_type": "stream",
          "name": "stdout",
          "text": [
            "2.2629430979297833\n",
            "Greater than 1\n"
          ]
        }
      ]
    },
    {
      "cell_type": "code",
      "source": [
        "x = randn()\n",
        "if x > 1:\n",
        "  answer = \"Greatter than 1\"\n",
        "else:\n",
        "  answer = \"Less than 1\"\n",
        "  print(x)\n",
        "  print(answer)"
      ],
      "metadata": {
        "colab": {
          "base_uri": "https://localhost:8080/"
        },
        "id": "75-5kXH_vHLO",
        "outputId": "9c11d0bd-03ad-4a0a-da7e-0abe834df328"
      },
      "execution_count": null,
      "outputs": [
        {
          "output_type": "stream",
          "name": "stdout",
          "text": [
            "-1.9342967483250317\n",
            "Less than 1\n"
          ]
        }
      ]
    },
    {
      "cell_type": "code",
      "source": [
        "x = randn()\n",
        "if x > 1:\n",
        "  answer = \"Greater than 1\"\n",
        "else:\n",
        "    if x >=-1:\n",
        "      answer = \"Between -1 and 1\"\n",
        "    else:\n",
        "      answer = \"Less than -1\"\n",
        "print(x)\n",
        "print(answer)"
      ],
      "metadata": {
        "colab": {
          "base_uri": "https://localhost:8080/"
        },
        "id": "UtyrnDKTycZl",
        "outputId": "e7a9407e-26c6-49b5-da10-aebf2ebd7749"
      },
      "execution_count": null,
      "outputs": [
        {
          "output_type": "stream",
          "name": "stdout",
          "text": [
            "-0.10769703913430084\n",
            "Between -1 and 1\n"
          ]
        }
      ]
    },
    {
      "cell_type": "code",
      "source": [
        "x = randn()\n",
        "if x > 1:\n",
        "  answer = \"Greater than 1\"\n",
        "elif x >= -1:\n",
        "  answer = \"Between -1 and 1\"\n",
        "else:\n",
        "  answer = \"Less than -1\"\n",
        "print(x)\n",
        "print(answer)"
      ],
      "metadata": {
        "colab": {
          "base_uri": "https://localhost:8080/"
        },
        "id": "AZe_bjoXzy9C",
        "outputId": "23528c20-0b0a-42b2-8010-76a0942e2373"
      },
      "execution_count": null,
      "outputs": [
        {
          "output_type": "stream",
          "name": "stdout",
          "text": [
            "-0.06348372607557588\n",
            "Between -1 and 1\n"
          ]
        }
      ]
    },
    {
      "cell_type": "code",
      "source": [
        "counter  = 0\n",
        "while counter < 4:\n",
        "  print(\"abra\")\n",
        "  counter = counter + 1"
      ],
      "metadata": {
        "colab": {
          "base_uri": "https://localhost:8080/"
        },
        "id": "IQiVpr2P0Sh0",
        "outputId": "0edda6ea-e056-4daa-ef34-968045b8e4c0"
      },
      "execution_count": null,
      "outputs": [
        {
          "output_type": "stream",
          "name": "stdout",
          "text": [
            "abra\n",
            "abra\n",
            "abra\n",
            "abra\n"
          ]
        }
      ]
    },
    {
      "cell_type": "code",
      "source": [],
      "metadata": {
        "id": "1ZK6TgOtyR2-"
      },
      "execution_count": null,
      "outputs": []
    },
    {
      "cell_type": "markdown",
      "source": [
        "## **Fundamental of Python**"
      ],
      "metadata": {
        "id": "aW0Zd_Tl5YpD"
      }
    },
    {
      "cell_type": "code",
      "source": [
        "w = list(range(100,200,10))"
      ],
      "metadata": {
        "id": "Ngbz9WfB5e22"
      },
      "execution_count": null,
      "outputs": []
    },
    {
      "cell_type": "code",
      "source": [
        "w[0]"
      ],
      "metadata": {
        "colab": {
          "base_uri": "https://localhost:8080/"
        },
        "id": "xbiXoolz_B4-",
        "outputId": "f5ca5de4-bb02-424a-ad8c-bb466b2628de"
      },
      "execution_count": null,
      "outputs": [
        {
          "output_type": "execute_result",
          "data": {
            "text/plain": [
              "100"
            ]
          },
          "metadata": {},
          "execution_count": 39
        }
      ]
    },
    {
      "cell_type": "code",
      "source": [
        "len(w)"
      ],
      "metadata": {
        "colab": {
          "base_uri": "https://localhost:8080/"
        },
        "id": "0RvgS4HZ-nQo",
        "outputId": "a56e5c0e-a908-47e7-cd0d-31fa1900b655"
      },
      "execution_count": null,
      "outputs": [
        {
          "output_type": "execute_result",
          "data": {
            "text/plain": [
              "10"
            ]
          },
          "metadata": {},
          "execution_count": 40
        }
      ]
    },
    {
      "cell_type": "code",
      "source": [
        "w[-3]"
      ],
      "metadata": {
        "colab": {
          "base_uri": "https://localhost:8080/"
        },
        "id": "yIg7Qbo8_M8_",
        "outputId": "7ed69936-7e88-4679-e409-4710186c20fb"
      },
      "execution_count": null,
      "outputs": [
        {
          "output_type": "execute_result",
          "data": {
            "text/plain": [
              "170"
            ]
          },
          "metadata": {},
          "execution_count": 41
        }
      ]
    },
    {
      "cell_type": "code",
      "source": [
        "w[-1]\n"
      ],
      "metadata": {
        "colab": {
          "base_uri": "https://localhost:8080/"
        },
        "id": "MoTYwlDz_gJ-",
        "outputId": "fed2790a-4cc2-413f-c106-fd07ad2223a2"
      },
      "execution_count": null,
      "outputs": [
        {
          "output_type": "execute_result",
          "data": {
            "text/plain": [
              "190"
            ]
          },
          "metadata": {},
          "execution_count": 42
        }
      ]
    },
    {
      "cell_type": "code",
      "source": [
        "w[9]"
      ],
      "metadata": {
        "colab": {
          "base_uri": "https://localhost:8080/"
        },
        "id": "kDqxGkh0_iOH",
        "outputId": "0e245abc-8264-4334-aed9-782f331afdce"
      },
      "execution_count": null,
      "outputs": [
        {
          "output_type": "execute_result",
          "data": {
            "text/plain": [
              "190"
            ]
          },
          "metadata": {},
          "execution_count": 44
        }
      ]
    },
    {
      "cell_type": "code",
      "source": [
        "w[2] = 2"
      ],
      "metadata": {
        "id": "gKJATwoW_oA8"
      },
      "execution_count": null,
      "outputs": []
    },
    {
      "cell_type": "code",
      "source": [
        "w"
      ],
      "metadata": {
        "colab": {
          "base_uri": "https://localhost:8080/"
        },
        "id": "pgS5mp7l_1cX",
        "outputId": "8113ed6f-a7ff-4e26-8ce5-c27c3bd8ec74"
      },
      "execution_count": null,
      "outputs": [
        {
          "output_type": "execute_result",
          "data": {
            "text/plain": [
              "[100, 110, 2, 130, 140, 150, 160, 170, 180, 190]"
            ]
          },
          "metadata": {},
          "execution_count": 46
        }
      ]
    },
    {
      "cell_type": "code",
      "source": [
        "w[::-1]"
      ],
      "metadata": {
        "colab": {
          "base_uri": "https://localhost:8080/"
        },
        "id": "hfJsEF4x_17t",
        "outputId": "4f95e50c-4b06-4b94-81ff-179cabec8077"
      },
      "execution_count": null,
      "outputs": [
        {
          "output_type": "execute_result",
          "data": {
            "text/plain": [
              "[190, 180, 170, 160, 150, 140, 130, 2, 110, 100]"
            ]
          },
          "metadata": {},
          "execution_count": 52
        }
      ]
    },
    {
      "cell_type": "code",
      "source": [
        "myList = list(range(20,31))"
      ],
      "metadata": {
        "id": "g8K9qK9CDxfw"
      },
      "execution_count": null,
      "outputs": []
    },
    {
      "cell_type": "code",
      "source": [
        "len(myList)"
      ],
      "metadata": {
        "colab": {
          "base_uri": "https://localhost:8080/"
        },
        "id": "UJj5tmpwC-EK",
        "outputId": "6811a556-f78b-4f22-bd17-45816ba942bb"
      },
      "execution_count": null,
      "outputs": [
        {
          "output_type": "execute_result",
          "data": {
            "text/plain": [
              "11"
            ]
          },
          "metadata": {},
          "execution_count": 56
        }
      ]
    },
    {
      "cell_type": "code",
      "source": [
        "type(mylist)"
      ],
      "metadata": {
        "colab": {
          "base_uri": "https://localhost:8080/"
        },
        "id": "VmGnWWdSF8mk",
        "outputId": "9f64ace5-52bb-4617-8d8f-05a26068561f"
      },
      "execution_count": null,
      "outputs": [
        {
          "output_type": "execute_result",
          "data": {
            "text/plain": [
              "list"
            ]
          },
          "metadata": {},
          "execution_count": 57
        }
      ]
    },
    {
      "cell_type": "code",
      "source": [
        "max(myList)"
      ],
      "metadata": {
        "colab": {
          "base_uri": "https://localhost:8080/"
        },
        "id": "lEXqvaIGF-u6",
        "outputId": "265630f3-b27e-4284-b3ad-f619eaac3936"
      },
      "execution_count": null,
      "outputs": [
        {
          "output_type": "execute_result",
          "data": {
            "text/plain": [
              "30"
            ]
          },
          "metadata": {},
          "execution_count": 58
        }
      ]
    },
    {
      "cell_type": "code",
      "source": [
        "a = np.array(myList)\n"
      ],
      "metadata": {
        "id": "x0-bbtxjKp6x"
      },
      "execution_count": 63,
      "outputs": []
    },
    {
      "cell_type": "code",
      "source": [
        "a"
      ],
      "metadata": {
        "colab": {
          "base_uri": "https://localhost:8080/"
        },
        "id": "NhoUXKtdLfxJ",
        "outputId": "0fa90ec5-aacb-4c4b-cae7-8292db125c66"
      },
      "execution_count": 64,
      "outputs": [
        {
          "output_type": "execute_result",
          "data": {
            "text/plain": [
              "array([20, 21, 22, 23, 24, 25, 26, 27, 28, 29, 30])"
            ]
          },
          "metadata": {},
          "execution_count": 64
        }
      ]
    },
    {
      "cell_type": "code",
      "source": [],
      "metadata": {
        "id": "FIjFyWs9LkCm"
      },
      "execution_count": null,
      "outputs": []
    },
    {
      "cell_type": "code",
      "source": [],
      "metadata": {
        "id": "lYGNgggbLePB"
      },
      "execution_count": null,
      "outputs": []
    },
    {
      "cell_type": "code",
      "source": [],
      "metadata": {
        "id": "RsFBqge2LZGD"
      },
      "execution_count": null,
      "outputs": []
    },
    {
      "cell_type": "code",
      "source": [],
      "metadata": {
        "id": "RgmCvX2iKxPT"
      },
      "execution_count": null,
      "outputs": []
    },
    {
      "cell_type": "code",
      "source": [],
      "metadata": {
        "id": "HhTeKfMgKItc"
      },
      "execution_count": null,
      "outputs": []
    },
    {
      "cell_type": "code",
      "source": [],
      "metadata": {
        "id": "U61RkjAI_l6U"
      },
      "execution_count": null,
      "outputs": []
    }
  ]
}